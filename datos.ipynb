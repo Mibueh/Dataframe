{
 "cells": [
  {
   "cell_type": "code",
   "execution_count": 7,
   "metadata": {},
   "outputs": [],
   "source": [
    "from faker import Faker\n",
    "import matplotlib.pyplot as plt\n",
    "import pandas as pd\n",
    "import re\n",
    "import random"
   ]
  },
  {
   "cell_type": "code",
   "execution_count": 8,
   "metadata": {},
   "outputs": [],
   "source": [
    "class DataFrame:\n",
    "    def datos(self):\n",
    "        global data\n",
    "        global prueba\n",
    "        global df\n",
    "        global rand\n",
    "        try:\n",
    "            fake = Faker()\n",
    "            df = pd.DataFrame(columns=('Email','Direccion','Numero'))\n",
    "            aleatorio = random.randint(25,50)\n",
    "            for i in range(aleatorio):\n",
    "                cosas = [fake.email(),fake.address(),fake.phone_number()]\n",
    "                df.loc[i] = [item for item in cosas]\n",
    "        except ValueError:\n",
    "            print(\"no se ha podido crear\")\n",
    "        print(df)\n",
    "        \n",
    "    def grafica(self):\n",
    "        try:\n",
    "            fig=plt.figure(figsize=(30,10))\n",
    "            plt.subplot2grid((2,4),(0,0))\n",
    "            domain = df['Email'].str.split(\"@\").str[1]\n",
    "            domain.value_counts().plot(kind='bar', alpha=0.5)\n",
    "            plt.title('Dominios de correo mas usados')\n",
    "            plt.show()\n",
    "        except ValueError:\n",
    "            print('La grafica no furula')"
   ]
  },
  {
   "cell_type": "code",
   "execution_count": 9,
   "metadata": {},
   "outputs": [
    {
     "name": "stdout",
     "output_type": "stream",
     "text": [
      "                                  Email  \\\n",
      "0                    ywoods@palmer.info   \n",
      "1               adamsrose@blanchard.org   \n",
      "2                   apruitt@hotmail.com   \n",
      "3                valenciamary@jones.com   \n",
      "4                     pclarke@gmail.com   \n",
      "5             jillgutierrez@hotmail.com   \n",
      "6               christopher96@gmail.com   \n",
      "7                       wshaw@gmail.com   \n",
      "8                  ashleyrose@gmail.com   \n",
      "9               amywilliams@hotmail.com   \n",
      "10                   molly87@miller.com   \n",
      "11             ramirezjeffery@gmail.com   \n",
      "12              lopezkimberly@yahoo.com   \n",
      "13              hancockseth@hotmail.com   \n",
      "14             smithchristy@hotmail.com   \n",
      "15           gomezlauren@underwood.info   \n",
      "16                     zlucas@gould.biz   \n",
      "17                   hulltina@gmail.com   \n",
      "18               tcervantes@hansen.info   \n",
      "19                     leah93@smith.com   \n",
      "20                    katie11@wells.biz   \n",
      "21             barnettjillian@gmail.com   \n",
      "22                 harrisanna@jones.net   \n",
      "23              susananderson@yahoo.com   \n",
      "24                 vthornton@cooper.org   \n",
      "25                jwilliams@bailey.info   \n",
      "26                rojasamber@weaver.com   \n",
      "27                cshaffer@robinson.com   \n",
      "28      oscarpeterson@smith-thomas.info   \n",
      "29  paulaestrada@ferguson-rodriguez.com   \n",
      "30                   ashley44@perez.com   \n",
      "31         taylorhowell@clark-velez.com   \n",
      "32                  joel58@goodman.info   \n",
      "33                larsenjesse@scott.com   \n",
      "34           brownadam@turner-rocha.org   \n",
      "35              rodriguezkelli@wall.biz   \n",
      "36                 gailtorres@barry.biz   \n",
      "37                  ocarroll@young.info   \n",
      "38                 drewbriggs@evans.com   \n",
      "39                  kenneth47@yahoo.com   \n",
      "40              marquezangela@gmail.com   \n",
      "41                joseph04@mcdonald.com   \n",
      "42         mitchelljoshua@anderson.info   \n",
      "43              sheilafrost@hotmail.com   \n",
      "44               millerwayne@knight.com   \n",
      "45                   charles79@best.net   \n",
      "46             toddkatherine@maddox.com   \n",
      "\n",
      "                                            Direccion               Numero  \n",
      "0   363 Rasmussen Squares Apt. 155\\nShannonland, S...  (289)794-9987x70122  \n",
      "1        9774 Lauren Gateway\\nWest Annefurt, OR 40815         692-064-7099  \n",
      "2     848 Justin Keys Apt. 673\\nBrandiville, NE 75922  1-643-122-7275x4279  \n",
      "3   75591 Michael Vista Apt. 668\\nPort Lisastad, K...         950.722.4097  \n",
      "4   9825 Debra Row Suite 919\\nPort Christophertown...         342.324.6235  \n",
      "5                    PSC 5713, Box 9085\\nAPO AP 68496          06337446035  \n",
      "6   1476 Amanda Heights Suite 083\\nBenjaminhaven, ...   889-875-4144x55673  \n",
      "7   0823 Rowland Tunnel Apt. 241\\nNew Meganhaven, ...   905-742-6185x24442  \n",
      "8    555 Davis Common Apt. 534\\nWest Ashley, OH 03040    905.694.6118x8030  \n",
      "9   200 Brittany Loop Apt. 643\\nWest Joseph, UT 68957        (588)549-9955  \n",
      "10  2553 Miller Common Suite 446\\nMariofurt, KY 72801   058.715.5910x95732  \n",
      "11        89663 John Junction\\nNorth Ashley, NJ 79613         172.920.0048  \n",
      "12     478 Mills Route Suite 001\\nDavidfort, NE 29636  1-777-547-4989x7815  \n",
      "13         4137 Baker Islands\\nGonzalezport, DE 37000       1-418-333-4323  \n",
      "14                   Unit 2325 Box 6479\\nDPO AA 89291        (147)238-4223  \n",
      "15   709 Moore Island Suite 859\\nEast Diana, ID 51120    (850)993-2517x801  \n",
      "16          67780 Carney Manor\\nSierrashire, AZ 98970        (476)694-5642  \n",
      "17        3672 Kenneth Glen\\nWest Ellenbury, TN 15863          07364309136  \n",
      "18            5527 Carolyn Dam\\nMorganshire, CA 84460     +92(6)2106577748  \n",
      "19                   PSC 5848, Box 9708\\nAPO AA 70515        (113)894-7155  \n",
      "20  193 Kyle Square Suite 358\\nNew Juliafort, UT 0...  (350)323-0203x52579  \n",
      "21   67406 Misty Squares Apt. 479\\nSmithton, NV 50557         820.197.9657  \n",
      "22  32517 Christina Glen Suite 882\\nNew Johnnyton,...          00606033623  \n",
      "23                   Unit 1743 Box 8358\\nDPO AE 67096  (147)303-8856x55173  \n",
      "24      5022 Gutierrez Dale\\nSouth Emmafurt, AR 88718       1-254-760-2959  \n",
      "25    28653 Rebecca Light\\nPort Amandamouth, NV 69369   698-489-1080x12540  \n",
      "26           255 Alvarado Loaf\\nWest Dennis, AK 05567         038.595.8171  \n",
      "27   634 Villanueva Brooks\\nLake Jamesshire, MD 97304   971.790.9398x44803  \n",
      "28                           USNV White\\nFPO AA 76768         116.833.6661  \n",
      "29    2209 Jim Common Suite 442\\nAustinbury, MA 97378         340-160-5169  \n",
      "30                   Unit 3299 Box 5042\\nDPO AP 51678          03139090300  \n",
      "31       08798 Sarah Rapids\\nWest Maryville, AZ 10869  1-235-737-2476x2033  \n",
      "32  86099 Adams Squares Apt. 100\\nDavisville, PA 1...   (843)113-2533x1996  \n",
      "33      106 Warren Summit\\nNew Davidborough, ND 98796         363.601.9356  \n",
      "34            79150 Mark Prairie\\nSmithland, NH 50969         791-983-5800  \n",
      "35           23829 Philip Via\\nDanielleport, TX 85484   (699)085-4817x7182  \n",
      "36                   Unit 3303 Box 8181\\nDPO AA 95827     +86(5)1232534733  \n",
      "37  33752 Jennifer Pines Suite 110\\nNorth Taylorbo...         117.354.0071  \n",
      "38  19697 James Avenue Suite 872\\nWest Lauraside, ...  1-943-937-3941x1288  \n",
      "39    0244 Blevins Port\\nWest Geoffreyhaven, ND 10740     329-896-9975x424  \n",
      "40        59168 Wilson Path\\nNew Yvonnefort, WV 08234     533.175.8096x578  \n",
      "41   6387 Keith Fork Apt. 496\\nWest Jeffrey, VA 95422          07029602734  \n",
      "42  0475 Harrison Plaza Apt. 407\\nEast Martinberg,...    117-502-6258x3054  \n",
      "43    877 Avila Shore Apt. 827\\nLake Joseph, SC 83061         596-250-8244  \n",
      "44  83407 Atkins Parks Suite 851\\nYolandamouth, MI...    (837)036-1024x079  \n",
      "45  66557 Wright Square Apt. 450\\nNew Tashatown, M...        (276)682-8295  \n",
      "46  59164 Selena Mission Suite 525\\nPort Brenda, V...   982.477.9099x40005  \n"
     ]
    }
   ],
   "source": [
    "dato = DataFrame()\n",
    "dato.datos()"
   ]
  },
  {
   "cell_type": "code",
   "execution_count": 10,
   "metadata": {},
   "outputs": [
    {
     "data": {
      "image/png": "[encoded data removed]",
      "text/plain": [
       "<Figure size 2160x720 with 1 Axes>"
      ]
     },
     "metadata": {},
     "output_type": "display_data"
    }
   ],
   "source": [
    "dato.grafica()"
   ]
  },
  {
   "cell_type": "code",
   "execution_count": null,
   "metadata": {},
   "outputs": [],
   "source": []
  }
 ],
 "metadata": {
  "kernelspec": {
   "display_name": "Python 3",
   "language": "python",
   "name": "python3"
  },
  "language_info": {
   "codemirror_mode": {
    "name": "ipython",
    "version": 3
   },
   "file_extension": ".py",
   "mimetype": "text/x-python",
   "name": "python",
   "nbconvert_exporter": "python",
   "pygments_lexer": "ipython3",
   "version": "3.6.5"
  }
 },
 "nbformat": 4,
 "nbformat_minor": 2
}
