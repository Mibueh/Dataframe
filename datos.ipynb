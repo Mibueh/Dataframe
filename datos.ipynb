{
 "cells": [
  {
   "cell_type": "code",
   "execution_count": 1,
   "metadata": {},
   "outputs": [],
   "source": [
    "from faker import Faker\n",
    "import matplotlib.pyplot as plt\n",
    "import pandas as pd\n",
    "import re\n",
    "import random"
   ]
  },
  {
   "cell_type": "code",
   "execution_count": 2,
   "metadata": {},
   "outputs": [],
   "source": [
    "class DataFrame:\n",
    "    def __init__(self):\n",
    "        global data\n",
    "        global prueba\n",
    "        global df\n",
    "        global rand\n",
    "        try:\n",
    "            fake = Faker()\n",
    "            df = pd.DataFrame(columns=('Email','Direccion','Numero'))\n",
    "            aleatorio = random.randint(25,50)\n",
    "            for i in range(aleatorio):\n",
    "                cosas = [fake.email(),fake.address(),fake.phone_number()]\n",
    "                df.loc[i] = [item for item in cosas]\n",
    "        except ValueError:\n",
    "            print(\"no se ha podido crear\")\n",
    "        print(df)\n",
    "        \n",
    "    def grafica(self):\n",
    "        try:\n",
    "            fig=plt.figure(figsize=(30,10))\n",
    "            plt.subplot2grid((2,4),(0,0))\n",
    "            domain = df['Email'].str.split(\"@\").str[1]\n",
    "            domain.value_counts().plot(kind='bar', alpha=0.5)\n",
    "            plt.title('Dominios de correo mas usados')\n",
    "            plt.show()\n",
    "        except ValueError:\n",
    "            print('La grafica no furula')"
   ]
  },
  {
   "cell_type": "code",
   "execution_count": 3,
   "metadata": {},
   "outputs": [
    {
     "name": "stdout",
     "output_type": "stream",
     "text": [
      "                                Email  \\\n",
      "0              isaac38@carr-sharp.org   \n",
      "1             fosteranthony@gmail.com   \n",
      "2                   imoore@wagner.com   \n",
      "3   cannonelizabeth@jackson-hayes.com   \n",
      "4                  hshannon@gmail.com   \n",
      "5                 johnwilson@hill.com   \n",
      "6                 sturner@hotmail.com   \n",
      "7                  vparrish@yahoo.com   \n",
      "8                    ccox@hotmail.com   \n",
      "9   jessicaobrien@lewis-henderson.com   \n",
      "10           rhondadaniels@walton.com   \n",
      "11               samantha96@gmail.com   \n",
      "12          allisontownsend@gmail.com   \n",
      "13                    ihall@yahoo.com   \n",
      "14                     bhahn@west.com   \n",
      "15                   john51@gmail.com   \n",
      "16           watsonmichael@franco.org   \n",
      "17                 treilly@medina.com   \n",
      "18                kelsey03@benson.com   \n",
      "19                lruiz@robinson.info   \n",
      "20            jillianwatson@yahoo.com   \n",
      "21                 ygoodwin@yahoo.com   \n",
      "22            riverabridget@yahoo.com   \n",
      "23           chelseayoung@hotmail.com   \n",
      "24                  megan89@gmail.com   \n",
      "25         nataliesantos@marshall.org   \n",
      "26                 lauren72@gmail.com   \n",
      "27              bpeterson@hotmail.com   \n",
      "\n",
      "                                            Direccion                Numero  \n",
      "0   71879 Patricia Circles Apt. 105\\nFoxtown, IN 5...          984.798.0172  \n",
      "1   31130 Martinez Corner Suite 048\\nCostachester,...      979.045.7324x193  \n",
      "2   35372 Gill Crossroad Apt. 378\\nPort Lisaland, ...      +12(2)1695562787  \n",
      "3            1606 Jessica Fork\\nCynthiabury, WV 26775          275-351-7381  \n",
      "4   13305 William Inlet Suite 314\\nHobbsfurt, AK 4...        1-690-209-5299  \n",
      "5      95454 Nathan Highway\\nLake Emilystad, IA 67042      +41(5)8018776773  \n",
      "6   4767 Sanders Lake Apt. 440\\nHendersonside, MO ...         (937)251-1596  \n",
      "7          01777 Henry Mission\\nMichaelport, OR 16306     366-926-8597x4248  \n",
      "8           05014 Martinez Circles\\nJoystad, MS 14089    (937)222-1405x9913  \n",
      "9       11530 Lawrence Terrace\\nGordonville, PA 89894     (087)505-2118x953  \n",
      "10       50441 Jason Summit\\nJessicachester, UT 75706           02613419678  \n",
      "11       1967 Carla Park\\nNorth Douglasstad, AK 06907        1-797-571-2707  \n",
      "12  40120 Emily Haven Apt. 297\\nEast Saraborough, ...          507.796.8052  \n",
      "13              472 Jones Way\\nPetersonstad, CT 05669          450-289-3499  \n",
      "14  80027 Karen Square Apt. 838\\nThomasfort, NV 81490   1-215-692-8419x0889  \n",
      "15  3427 Tabitha Extension Suite 084\\nMillerfort, ...         (367)321-5689  \n",
      "16  90033 Vasquez Crossing Suite 898\\nTimothymouth...        1-030-580-4824  \n",
      "17    02176 Jeffrey Inlet\\nKatherineborough, NC 39788    362.185.0747x68523  \n",
      "18      01251 Rebecca Rapid\\nPort Chrisfurt, TX 80177        1-904-768-8975  \n",
      "19  38283 Rodney Villages Apt. 759\\nJuanborough, N...          587.330.0324  \n",
      "20  86110 Diaz Fords Apt. 032\\nNorth Erikaside, ND...   1-283-691-3951x5580  \n",
      "21   206 Patricia Shoal\\nWest Rhondaborough, OK 39820    1-973-850-8119x899  \n",
      "22       90920 Mark Extension\\nNorth Andrew, CT 58073          184-398-2527  \n",
      "23  87006 Schwartz Forest Suite 129\\nJamestown, PA...     479-881-5393x4257  \n",
      "24  593 Santiago Unions Suite 876\\nNorth Yolandabe...     572-841-3253x1658  \n",
      "25           75261 Joseph Trail\\nLake Julie, NV 63401          573-607-3243  \n",
      "26            0752 Horton Green\\nDebramouth, MI 83973  1-397-102-9381x31665  \n",
      "27      932 Patricia Turnpike\\nLake Jasmine, TN 46573     400-191-9247x1321  \n"
     ]
    }
   ],
   "source": [
    "datos = DataFrame()"
   ]
  },
  {
   "cell_type": "code",
   "execution_count": 4,
   "metadata": {},
   "outputs": [
    {
     "data": {
      "image/png": "[encoded data removed]",
      "text/plain": [
       "<Figure size 2160x720 with 1 Axes>"
      ]
     },
     "metadata": {},
     "output_type": "display_data"
    }
   ],
   "source": [
    "datos.grafica()"
   ]
  },
  {
   "cell_type": "code",
   "execution_count": null,
   "metadata": {},
   "outputs": [],
   "source": []
  }
 ],
 "metadata": {
  "kernelspec": {
   "display_name": "Python 3",
   "language": "python",
   "name": "python3"
  },
  "language_info": {
   "codemirror_mode": {
    "name": "ipython",
    "version": 3
   },
   "file_extension": ".py",
   "mimetype": "text/x-python",
   "name": "python",
   "nbconvert_exporter": "python",
   "pygments_lexer": "ipython3",
   "version": "3.6.5"
  }
 },
 "nbformat": 4,
 "nbformat_minor": 2
}
