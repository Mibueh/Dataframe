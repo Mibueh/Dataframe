{
 "cells": [
  {
   "cell_type": "code",
   "execution_count": 23,
   "metadata": {},
   "outputs": [],
   "source": [
    "from faker import Faker\n",
    "import matplotlib.pyplot as plt\n",
    "import pandas as pd\n",
    "import re\n",
    "import random"
   ]
  },
  {
   "cell_type": "code",
   "execution_count": 51,
   "metadata": {},
   "outputs": [],
   "source": [
    "class DataFrame:\n",
    "    def datos(self):\n",
    "        global data\n",
    "        global prueba\n",
    "        global df\n",
    "        global rand\n",
    "        try:\n",
    "            fake = Faker()\n",
    "            df = pd.DataFrame(columns=('Email','Direccion','Numero'))\n",
    "            aleatorio = random.randint(25,50)\n",
    "            for i in range(aleatorio):\n",
    "                cosas = [fake.email(),fake.address(),fake.phone_number()]\n",
    "                df.loc[i] = [item for item in cosas]\n",
    "        except ValueError:\n",
    "            print(\"no se ha podido crear\")\n",
    "        print(df)\n",
    "        \n",
    "    def grafica(self):\n",
    "        try:\n",
    "            fig=plt.figure(figsize=(30,10))\n",
    "            plt.subplot2grid((2,4),(0,0))\n",
    "            domain = df['Email'].str.split(\"@\").str[1]\n",
    "            domain.value_counts().plot(kind='bar', alpha=0.5)\n",
    "            plt.title('Dominios de correo mas usados')\n",
    "            plt.show()\n",
    "        except ValueError:\n",
    "            print('La grafica no furula')"
   ]
  },
  {
   "cell_type": "code",
   "execution_count": 52,
   "metadata": {},
   "outputs": [
    {
     "name": "stdout",
     "output_type": "stream",
     "text": [
      "                            Email  \\\n",
      "0   tvelasquez@russell-moore.info   \n",
      "1       rebeccahamilton@yahoo.com   \n",
      "2            rharrington@chen.com   \n",
      "3           fordalexa@stewart.com   \n",
      "4              zrandall@gmail.com   \n",
      "5    lisaanderson@brown-avery.com   \n",
      "6        stewartangela@miller.com   \n",
      "7            jennifer10@gmail.com   \n",
      "8               pmartin@huber.com   \n",
      "9       larry70@kirk-campbell.com   \n",
      "10             fjimenez@olson.org   \n",
      "11               ryan89@gmail.com   \n",
      "12   michealhernandez@hotmail.com   \n",
      "13        briannabryant@gmail.com   \n",
      "14            ubailey@hotmail.com   \n",
      "15    william22@robles-osborn.com   \n",
      "16          andrew61@mccarthy.biz   \n",
      "17               mark61@gmail.com   \n",
      "18           robert57@hotmail.com   \n",
      "19      mccarthykeith@hotmail.com   \n",
      "20            charles53@davis.com   \n",
      "21    lori32@shelton-martinez.com   \n",
      "22  thomasgrant@fleming-james.net   \n",
      "23  williammclaughlin@daniels.net   \n",
      "24         annettecole@howard.com   \n",
      "25           ygriffin@hotmail.com   \n",
      "26        schmittlauren@mason.com   \n",
      "27             edward82@yahoo.com   \n",
      "28        danielle61@thompson.com   \n",
      "29        gregorylaurie@smith.com   \n",
      "30           russosusan@gmail.com   \n",
      "31              joel06@orozco.biz   \n",
      "32           brooke91@parker.info   \n",
      "33           mbush@mclaughlin.org   \n",
      "\n",
      "                                            Direccion                Numero  \n",
      "0               7064 James Field\\nNew James, GA 06271          544.932.9197  \n",
      "1   7997 White Stravenue Apt. 347\\nLake Holly, MD ...  1-061-540-9165x65762  \n",
      "2   687 Brittany Plains Apt. 272\\nNew Cindy, CO 07307      +18(5)5429546110  \n",
      "3          50300 Johnston Island\\nLake John, SD 50511           06753863804  \n",
      "4       871 Tyler Glen Suite 991\\nKiarafort, OR 19596      +98(7)5171322269  \n",
      "5   04410 Bradley Extension Apt. 312\\nRodriguezlan...        1-233-708-7350  \n",
      "6              5381 Edward Circle\\nJohnberg, WY 63832      +83(6)4378111824  \n",
      "7           6487 Brenda Light\\nElliottmouth, WV 21583     072.487.0427x9772  \n",
      "8   08182 Williams Islands Apt. 844\\nKarenberg, AR...  1-806-661-2728x66534  \n",
      "9   88920 Michelle Field Suite 651\\nEast Christian...    320-435-0697x00598  \n",
      "10                         USNS Jimenez\\nFPO AE 59116        1-863-848-2402  \n",
      "11        09086 William Parkways\\nPalmerton, VT 50812        1-942-997-5707  \n",
      "12  8090 Palmer Station Apt. 792\\nPort Robertborou...      436-170-1062x351  \n",
      "13         160 April Spur\\nNorth Scottmouth, UT 39663           04033509956  \n",
      "14        0338 Hardy Summit\\nSouth Danielle, KS 03701    467.915.9487x73239  \n",
      "15     365 Jose Manor Apt. 596\\nTinaborough, NY 19778      +49(1)3565914736  \n",
      "16                   Unit 7329 Box 4852\\nDPO AA 47189    (848)604-6159x9987  \n",
      "17  06831 Taylor Inlet Suite 928\\nWest Regina, MA ...          354-491-7537  \n",
      "18                         USNV Watkins\\nFPO AP 13171      723.346.8609x739  \n",
      "19       8294 Silva Parks\\nPort Christopher, SD 64612          313-334-4771  \n",
      "20   9082 Kevin Point Apt. 300\\nMelissaberg, VT 49236   1-183-980-4540x6766  \n",
      "21            816 Tyler Springs\\nWest Sarah, WV 81455          544-216-7407  \n",
      "22     38191 Jennifer Curve\\nStewartborough, CO 04868    1-519-714-9102x348  \n",
      "23          0861 Douglas Highway\\nEast Kyle, WV 91094           03698972189  \n",
      "24  702 Tammy Tunnel Suite 300\\nJuanborough, IL 68018     (416)389-3496x476  \n",
      "25         69339 Rhonda Union\\nLeonardmouth, CA 99686    436.030.7235x92970  \n",
      "26            53607 Sarah Glen\\nBrandishire, NC 28785    870-285-8219x02666  \n",
      "27         05864 Chad Turnpike\\nHooverhaven, FL 56681   (559)244-2397x47717  \n",
      "28  73831 Emily Turnpike Apt. 233\\nBurnsfurt, TN 4...    1-868-778-3671x196  \n",
      "29  8939 James Ridges Apt. 496\\nWest Jamesshire, A...      246.408.2097x259  \n",
      "30          9200 Parker Squares\\nDonaldfurt, PA 72339    1-285-908-6717x368  \n",
      "31            72511 Sara Lodge\\nNorth Paula, NM 29657        1-782-852-3832  \n",
      "32              270 Brown Ways\\nJessicatown, NJ 27695          305.614.6929  \n",
      "33           150 Lindsay Rapid\\nPort Kendra, MO 68330    (435)810-7480x7445  \n"
     ]
    }
   ],
   "source": [
    "dato = DataFrame()\n",
    "dato.datos()"
   ]
  },
  {
   "cell_type": "code",
   "execution_count": 53,
   "metadata": {},
   "outputs": [
    {
     "data": {
      "image/png": "[encoded data removed]",
      "text/plain": [
       "<Figure size 2160x720 with 1 Axes>"
      ]
     },
     "metadata": {},
     "output_type": "display_data"
    }
   ],
   "source": [
    "dato.grafica()"
   ]
  },
  {
   "cell_type": "code",
   "execution_count": null,
   "metadata": {},
   "outputs": [],
   "source": []
  }
 ],
 "metadata": {
  "kernelspec": {
   "display_name": "Python 3",
   "language": "python",
   "name": "python3"
  },
  "language_info": {
   "codemirror_mode": {
    "name": "ipython",
    "version": 3
   },
   "file_extension": ".py",
   "mimetype": "text/x-python",
   "name": "python",
   "nbconvert_exporter": "python",
   "pygments_lexer": "ipython3",
   "version": "3.6.5"
  }
 },
 "nbformat": 4,
 "nbformat_minor": 2
}
